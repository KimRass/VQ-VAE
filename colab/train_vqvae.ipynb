{
 "cells": [
  {
   "cell_type": "code",
   "execution_count": null,
   "metadata": {},
   "outputs": [],
   "source": [
    "from google.colab import drive\n",
    "\n",
    "drive.mount(\"/content/drive\", force_remount=True)\n",
    "\n",
    "!rm -rf /content/VQ-VAE\n",
    "%cd /content/\n",
    "!git clone https://github.com/KimRass/VQ-VAE\n",
    "%cd /content/VQ-VAE"
   ]
  },
  {
   "cell_type": "code",
   "execution_count": null,
   "metadata": {},
   "outputs": [],
   "source": [
    "!pip install einops"
   ]
  },
  {
   "cell_type": "code",
   "execution_count": null,
   "metadata": {},
   "outputs": [],
   "source": [
    "!python3 train_vqvae.py\\\n",
    "    --dataset=\"cifar10\"\\\n",
    "    --data_dir=\"/content/drive/MyDrive\"\\\n",
    "    --save_dir=\"/content/drive/MyDrive/vqvae/vqvae-cifar10/\"\\\n",
    "    --n_epochs=300\\\n",
    "    --batch_size=128\\\n",
    "    --n_cpus=2\\\n",
    "    --lr=0.0002\\\n",
    "    --n_embeds=32\\\n",
    "    --hidden_dim=128\\\n",
    "    --n_pixelcnn_res_blocks=3\\\n",
    "    --n_pixelcnn_conv_blocks=2"
   ]
  }
 ],
 "metadata": {
  "language_info": {
   "name": "python"
  },
  "orig_nbformat": 4
 },
 "nbformat": 4,
 "nbformat_minor": 2
}
