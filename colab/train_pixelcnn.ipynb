{
 "cells": [
  {
   "cell_type": "code",
   "execution_count": null,
   "metadata": {},
   "outputs": [],
   "source": [
    "from google.colab import drive\n",
    "\n",
    "drive.mount(\"/content/drive\", force_remount=True)\n",
    "\n",
    "!rm -rf /content/VQ-VAE\n",
    "%cd /content/\n",
    "!git clone https://github.com/KimRass/VQ-VAE\n",
    "%cd /content/VQ-VAE"
   ]
  },
  {
   "cell_type": "code",
   "execution_count": null,
   "metadata": {},
   "outputs": [],
   "source": [
    "!pip install einops"
   ]
  },
  {
   "cell_type": "code",
   "execution_count": null,
   "metadata": {},
   "outputs": [],
   "source": [
    "!python3 train_pixelcnn.py\\\n",
    "    --dataset=\"cifar10\"\\\n",
    "    --data_dir=\"/content/drive/MyDrive/datasets\"\\\n",
    "    --save_dir=\"/content/drive/MyDrive/vqvae/pixelcnn-cifar10/\"\\\n",
    "    --vqvae_params=\"/content/drive/MyDrive/vqvae/vqvae-cifar10/epoch=80-val_loss=0.164.pth\"\\\n",
    "    --n_epochs=300\\\n",
    "    --batch_size=128\\\n",
    "    --n_cpus=2\\\n",
    "    --lr=0.0003\\\n",
    "    --n_embeds=128\\\n",
    "    --hidden_dim=16\\\n",
    "    --n_pixelcnn_res_blocks=2\\\n",
    "    --n_pixelcnn_conv_blocks=2"
   ]
  }
 ],
 "metadata": {
  "language_info": {
   "name": "python"
  },
  "orig_nbformat": 4
 },
 "nbformat": 4,
 "nbformat_minor": 2
}
